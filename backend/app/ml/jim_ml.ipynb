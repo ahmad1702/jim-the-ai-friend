{
  "cells": [
    {
      "cell_type": "markdown",
      "metadata": {
        "id": "view-in-github",
        "colab_type": "text"
      },
      "source": [
        "<a href=\"https://colab.research.google.com/github/ahmad1702/chat-ai-ml-2023/blob/development/backend/app/ml/jim_ml.ipynb\" target=\"_parent\"><img src=\"https://colab.research.google.com/assets/colab-badge.svg\" alt=\"Open In Colab\"/></a>"
      ]
    },
    {
      "cell_type": "code",
      "execution_count": null,
      "metadata": {
        "colab": {
          "base_uri": "https://localhost:8080/"
        },
        "id": "EBhZqMvSpF4r",
        "outputId": "c2e8902f-116b-4bad-dc9e-66098ca1722b"
      },
      "outputs": [
        {
          "output_type": "stream",
          "name": "stdout",
          "text": [
            "Looking in indexes: https://pypi.org/simple, https://us-python.pkg.dev/colab-wheels/public/simple/\n",
            "Requirement already satisfied: nltk in /usr/local/lib/python3.8/dist-packages (3.7)\n",
            "Requirement already satisfied: joblib in /usr/local/lib/python3.8/dist-packages (from nltk) (1.2.0)\n",
            "Requirement already satisfied: click in /usr/local/lib/python3.8/dist-packages (from nltk) (7.1.2)\n",
            "Requirement already satisfied: tqdm in /usr/local/lib/python3.8/dist-packages (from nltk) (4.64.1)\n",
            "Requirement already satisfied: regex>=2021.8.3 in /usr/local/lib/python3.8/dist-packages (from nltk) (2022.6.2)\n"
          ]
        }
      ],
      "source": [
        "!pip install nltk"
      ]
    },
    {
      "cell_type": "code",
      "source": [
        "import typing\n",
        "import nltk\n",
        "from sklearn.feature_extraction.text import CountVectorizer"
      ],
      "metadata": {
        "id": "rDQEyeNRCThN"
      },
      "execution_count": null,
      "outputs": []
    },
    {
      "cell_type": "code",
      "execution_count": null,
      "metadata": {
        "colab": {
          "base_uri": "https://localhost:8080/"
        },
        "id": "KaO0MTUWpJfa",
        "outputId": "c6676faa-a2b8-4f21-87e7-618f81469418"
      },
      "outputs": [
        {
          "output_type": "stream",
          "name": "stderr",
          "text": [
            "[nltk_data] Downloading package punkt to /root/nltk_data...\n",
            "[nltk_data]   Unzipping tokenizers/punkt.zip.\n"
          ]
        },
        {
          "output_type": "stream",
          "name": "stdout",
          "text": [
            "['about' 'afraid' 'at' 'atoms' 'avoid' 'because' 'book' 'can' 'did' 'don'\n",
            " 'down' 'everything' 'glue' 'he' 'hear' 'history' 'it' 'just' 'll' 'make'\n",
            " 'mathematician' 'negative' 'nothing' 'numbers' 'of' 'on' 'put' 'reading'\n",
            " 'scientists' 'seem' 'stop' 'the' 'them' 'they' 'to' 'trust' 'up' 'who'\n",
            " 'why' 'you']\n"
          ]
        }
      ],
      "source": [
        "# download the dataset from nltk (because who doesn't like free stuff?)\n",
        "nltk.download('punkt')\n",
        "\n",
        "# these jokes may not be funny, but they're great for testing\n",
        "sentences = [\"Why don't scientists trust atoms? Because they make up everything!\",\n",
        "             \"Did you hear about the mathematician who's afraid of negative numbers? He'll stop at nothing to avoid them.\",\n",
        "             \"I'm reading a book on the history of glue. I just can't seem to put it down.\"]\n",
        "\n",
        "# we're breaking up these jokes into bite-sized pieces\n",
        "tokenizer = nltk.tokenize.RegexpTokenizer(r'\\w+')\n",
        "tokenized_sentences = [tokenizer.tokenize(sentence) for sentence in sentences]\n",
        "\n",
        "lowercase_sentences = [[word.lower() for word in sentence] for sentence in tokenized_sentences]\n",
        "\n",
        "# going to convert tokenized sentences to bag-of-words vectors (we're putting the words in a bag and shaking them up)\n",
        "vectorizer = CountVectorizer()\n",
        "bow_vectors = vectorizer.fit_transform([\" \".join(sentence) for sentence in lowercase_sentences])\n",
        "\n",
        "# let's see what words we've got in our bag of jokes\n",
        "print(vectorizer.get_feature_names_out())\n"
      ]
    },
    {
      "cell_type": "code",
      "execution_count": null,
      "metadata": {
        "id": "tJXpLP1YEA4B"
      },
      "outputs": [],
      "source": [
        "# British National Corpus (BNC) Dataset\n",
        "# Commented out temporarily as there seemse to be something wrong with the cutoffs provided. We might find a different download for it\n",
        "bnc_dataset = {}\n",
        "\n",
        "# Its long, so to start I'll only use the first 100\n",
        "# with open('BNCCorpus.txt') as bnc_orig:\n",
        "#   prev_val = None\n",
        "#   for i, init_line in enumerate(bnc_orig):\n",
        "#     line = init_line.replace('\\n', '')\n",
        "\n",
        "#     # once we reach 101, we're done. wow that rhymed\n",
        "#     if i == 101:\n",
        "#       break\n",
        "#     if i % 2 == 0:\n",
        "#       bnc_dataset[prev_val] = line\n",
        "#     else:\n",
        "#       prev_val = line\n",
        "\n",
        "# print(bnc_dataset)"
      ]
    },
    {
      "cell_type": "code",
      "execution_count": null,
      "metadata": {
        "id": "wj4IE3TjC-Iu"
      },
      "outputs": [],
      "source": [
        "# DO NOT REMOVE. This 'chat_input' function is what will be called by the server\n",
        "class Message():\n",
        "  message: str\n",
        "\n",
        "def chat_input(input: str) -> Message:\n",
        "    print(input)\n",
        "    return {\"message\": f\"Hi, I know you said '{input}' but I'm not implemented yet...\"}"
      ]
    },
    {
      "cell_type": "code",
      "execution_count": null,
      "metadata": {
        "colab": {
          "base_uri": "https://localhost:8080/"
        },
        "id": "Vsrxu-ZRExSz",
        "outputId": "2274fc1a-2787-4fd1-eac5-beb2e2809308"
      },
      "outputs": [
        {
          "output_type": "stream",
          "name": "stdout",
          "text": [
            "Hi, how are you\n",
            "{'message': \"Hi, I know you said 'Hi, how are you' but I'm not implemented yet...\"}\n"
          ]
        }
      ],
      "source": [
        "print(chat_input('Hi, how are you'))"
      ]
    },
    {
      "cell_type": "code",
      "source": [],
      "metadata": {
        "id": "K0iD_0539wqz"
      },
      "execution_count": null,
      "outputs": []
    }
  ],
  "metadata": {
    "colab": {
      "provenance": [],
      "include_colab_link": true
    },
    "kernelspec": {
      "display_name": "Python 3",
      "name": "python3"
    },
    "language_info": {
      "name": "python"
    }
  },
  "nbformat": 4,
  "nbformat_minor": 0
}